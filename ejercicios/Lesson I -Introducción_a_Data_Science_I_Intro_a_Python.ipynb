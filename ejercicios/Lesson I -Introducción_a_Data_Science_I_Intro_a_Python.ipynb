{
  "nbformat": 4,
  "nbformat_minor": 0,
  "metadata": {
    "colab": {
      "provenance": []
    },
    "kernelspec": {
      "name": "python3",
      "display_name": "Python 3"
    },
    "language_info": {
      "name": "python"
    }
  },
  "cells": [
    {
      "cell_type": "markdown",
      "source": [
        "# Introducción a Python 🐍\n",
        "\n",
        "Python es un lenguaje de programación conocido por su simplicidad y legibilidad.\n",
        "Fue creado por Guido van Rossum y lanzado por primera vez en **1991**. Python se usa ampliamente en diferentes\n",
        "campos como desarrollo web, **análisis de datos, inteligencia artificial, automatización de tareas,** y mucho más.\n",
        "\n",
        "Características principales de Python:\n",
        "- Sintaxis simple y fácil de aprender (es como el inglés de los lenguajes de programación)\n",
        "- Gran biblioteca estándar y un ecosistema rico de paquetes de terceros.\n",
        "- Portabilidad entre diferentes sistemas operativos.\n",
        "- Amplio uso en comunidades científicas y de análisis de datos.\n",
        "\n",
        "A continuación, veremos algunos conceptos básicos de Python."
      ],
      "metadata": {
        "id": "5-DR64mxTDJq"
      }
    },
    {
      "cell_type": "markdown",
      "source": [
        "## 1. Hello, World! 👋\n",
        "\n",
        "¡Nuestro primer Programa! Vamos a mostrar por pantalla un texto: \"Hello, World!\""
      ],
      "metadata": {
        "id": "Apg40UNvTKY2"
      }
    },
    {
      "cell_type": "code",
      "source": [],
      "metadata": {
        "id": "nYYmVBhyT0Re"
      },
      "execution_count": 4,
      "outputs": []
    },
    {
      "cell_type": "markdown",
      "source": [
        "## 2. Variables 📦\n",
        "\n",
        "Las variables son \"cajitas\" donde \"guardar\" algún dato, como un número o un texto."
      ],
      "metadata": {
        "id": "Svsc8fRIT46h"
      }
    },
    {
      "cell_type": "code",
      "source": [],
      "metadata": {
        "id": "aymyThZGgpq-"
      },
      "execution_count": 4,
      "outputs": []
    },
    {
      "cell_type": "markdown",
      "source": [
        "## 3. Tipos de Datos 🔣\n",
        "\n",
        "Los \"tipos de dato\" son las **distintas formas que puede tomar la información**. En programación existen muchos tipos de datos distintos: **números, texto, listas**... vamos a explorar algunos de los más importantes."
      ],
      "metadata": {
        "id": "eAySARJgUEMD"
      }
    },
    {
      "cell_type": "markdown",
      "source": [
        "### 3.1 Booleans\n",
        "\n",
        "Que no te asuste su nombre de extraterrestre 👽, es el más simple de todos: su valor sólo puede ser verdad (**True**) o mentira (**False**)."
      ],
      "metadata": {
        "id": "l7ozKyMQUHmL"
      }
    },
    {
      "cell_type": "code",
      "source": [],
      "metadata": {
        "id": "UJcPNnsvVN4o"
      },
      "execution_count": 4,
      "outputs": []
    },
    {
      "cell_type": "markdown",
      "source": [
        "### 3.2 Integers\n",
        "\n",
        "Sencillo: son **números enteros**: 1, 2, -5, 3742638... Es decir: **sin decimales**."
      ],
      "metadata": {
        "id": "jhYOE7NtULgt"
      }
    },
    {
      "cell_type": "code",
      "source": [],
      "metadata": {
        "id": "OHq92pYfVOXC"
      },
      "execution_count": 4,
      "outputs": []
    },
    {
      "cell_type": "markdown",
      "source": [
        "### 3.3 Floats\n",
        "\n",
        "Fácil también: si un integer es un número entero, **un float es un número decimal**: 0.4, 3.14, -6,87, 0,0000000001..."
      ],
      "metadata": {
        "id": "M-JisyeHUTUg"
      }
    },
    {
      "cell_type": "code",
      "source": [],
      "metadata": {
        "id": "rhvp9veDVPeb"
      },
      "execution_count": 4,
      "outputs": []
    },
    {
      "cell_type": "markdown",
      "source": [
        "### 3.4 Strings\n",
        "\n",
        "Esta la has visto antes: \"Hello, World!\" es un dato de tipo string. Un string **no es más que texto** o \"cadena\" de texto."
      ],
      "metadata": {
        "id": "D5OdPu4xUY--"
      }
    },
    {
      "cell_type": "code",
      "source": [],
      "metadata": {
        "id": "5DQUfCMcVP0d"
      },
      "execution_count": 4,
      "outputs": []
    },
    {
      "cell_type": "markdown",
      "source": [
        "### 3.5 Lists\n",
        "\n",
        "Una lista es **una secuencia de otros datos**. Dichos datos están ordenados, como la cola de un supermercado."
      ],
      "metadata": {
        "id": "W7MEUTmVUeTa"
      }
    },
    {
      "cell_type": "code",
      "source": [],
      "metadata": {
        "id": "T_69X_AI4mom"
      },
      "execution_count": 4,
      "outputs": []
    },
    {
      "cell_type": "markdown",
      "source": [
        "Usa el métorodo `append` para añadir elementos a la lista."
      ],
      "metadata": {
        "id": "rfJoTgOGPHAd"
      }
    },
    {
      "cell_type": "code",
      "source": [],
      "metadata": {
        "id": "5tpS5GOZVQS8"
      },
      "execution_count": 4,
      "outputs": []
    },
    {
      "cell_type": "markdown",
      "source": [
        "Usa el métorodo `pop` para eliminar el último elemento añadido a la lista."
      ],
      "metadata": {
        "id": "o1cFFS0zPZlX"
      }
    },
    {
      "cell_type": "code",
      "source": [],
      "metadata": {
        "id": "aAYjfFJsPk2N"
      },
      "execution_count": 4,
      "outputs": []
    },
    {
      "cell_type": "markdown",
      "source": [
        "Para acceder a un elemento en una posición específica usa corchetes `[]`"
      ],
      "metadata": {
        "id": "vjxBqm7wPl6J"
      }
    },
    {
      "cell_type": "code",
      "source": [],
      "metadata": {
        "id": "CH02V8jL9qdH"
      },
      "execution_count": 4,
      "outputs": []
    },
    {
      "cell_type": "markdown",
      "source": [
        "Para acceder a un subset de elementos en una posición específica podemos usar ``:`` en combinación con los corchetes `[]`"
      ],
      "metadata": {
        "id": "gg7U2xt2P6qQ"
      }
    },
    {
      "cell_type": "code",
      "source": [],
      "metadata": {
        "id": "2gBoLasPNOl_"
      },
      "execution_count": 4,
      "outputs": []
    },
    {
      "cell_type": "markdown",
      "source": [
        "### 3.6 Dictionaries\n",
        "\n",
        "Piensa, ¿qué es un diccionario? No es más que **un cojunto de parejas**: una palabra y su definición. Bueno, pues un diccionario es un tipo de dato que alberga **\"claves\" y \"valores\"**. Algo así como una agenda telefónica: \"nombre\" y \"teléfono. Veámoslo en la práctica para entenderlo bien."
      ],
      "metadata": {
        "id": "HbMgnIziUoPz"
      }
    },
    {
      "cell_type": "code",
      "source": [],
      "metadata": {
        "id": "_gWxHeGdVQt7"
      },
      "execution_count": 4,
      "outputs": []
    },
    {
      "cell_type": "markdown",
      "source": [
        "Puedes acceder a un elemnto del diccionario usando corchetes `[]`"
      ],
      "metadata": {
        "id": "UyipSovRRfaW"
      }
    },
    {
      "cell_type": "code",
      "source": [],
      "metadata": {
        "id": "CwQvFdREReie"
      },
      "execution_count": 4,
      "outputs": []
    },
    {
      "cell_type": "markdown",
      "source": [
        "### 3.7 El tipo nulo: None\n",
        "\n",
        "Simboliza la **ausencia de un dato**. Imagínate que tienes datos de muchos pacientes, pero de algunos de ellos/as no tienes la edad. ¿Cómo lo representas? En python se utiliza None, y es muy muy común en análisis de datos."
      ],
      "metadata": {
        "id": "SjZAPLj8gCKw"
      }
    },
    {
      "cell_type": "code",
      "source": [],
      "metadata": {
        "id": "VUDKJpKugeVV"
      },
      "execution_count": 4,
      "outputs": []
    },
    {
      "cell_type": "markdown",
      "source": [
        "## 4. Condicionales ➡️\n",
        "\n",
        "Los condicionales son fórmulas que guían la lógica de nuestro código. Dichas fórmulas son del estilo: **\"si sucede tal, haz cual y si no sucede, haz esto otro\"**. Usamos sus equivalentes en inglés: \"if <> else <>\". ¿Te acuerdas de los booleanos 👽? bueno, pues detras de un if siempre va a haber un booleano: \"if True, then...\""
      ],
      "metadata": {
        "id": "cHtrs3_VU3jj"
      }
    },
    {
      "cell_type": "code",
      "source": [],
      "metadata": {
        "id": "NGmctSkEVRSt"
      },
      "execution_count": 4,
      "outputs": []
    },
    {
      "cell_type": "markdown",
      "source": [
        "## 5. Bucles (loops) 🔄\n",
        "\n",
        "Los bucles nos permiten realizar la misma operación múltiples veces. Existen varios tipos:\n",
        "\n",
        "- Los \"for loops\": se utilizan para iterar sobre una secuencia (como una lista, un diccionario...).\n",
        "  Cada elemento de la secuencia se procesa en cada iteración del bucle.\n",
        "\n",
        "- Los \"while loops\":\n",
        "  Se utilizan para repetir un bloque de código mientras una condición sea verdadera.\n",
        "  Es importante asegurarse de que la condición eventualmente se vuelva falsa para evitar bucles infinitos."
      ],
      "metadata": {
        "id": "yIsEB5I8U831"
      }
    },
    {
      "cell_type": "code",
      "source": [],
      "metadata": {
        "id": "tJCWA8ApWeRW"
      },
      "execution_count": 4,
      "outputs": []
    },
    {
      "cell_type": "markdown",
      "source": [
        "## 6. Funciones ⚙️\n",
        "\n",
        "Una función es un **pedazo de código que realiza una tarea específica** y puede ser reutilizado. Esa capacidad de reusabilidad hace que las funciones sean importantísimas, están por todos los lados, tanto, que en python 🐍 se les considera \"first class citizens\". Veámoslo con un ejemplo:"
      ],
      "metadata": {
        "id": "_ythAI1sVCQ1"
      }
    },
    {
      "cell_type": "code",
      "source": [],
      "metadata": {
        "id": "XLgz_tZRWesf"
      },
      "execution_count": 4,
      "outputs": []
    },
    {
      "cell_type": "markdown",
      "source": [
        "## 7. Librerías de Python 📚\n",
        "\n",
        "Una librería en Python 🐍 es un **conjunto de funciones y herramientas** predefinidas que puedes usar **para hacer tu trabajo más fácil**.\n",
        "Es como una caja de herramientas que ya tiene muchas cosas útiles listas para usar. Python tiene un montón 🎉, es uno de los motivos por los que está tan extendido! 😀"
      ],
      "metadata": {
        "id": "TMEOMvUlVo9V"
      }
    },
    {
      "cell_type": "markdown",
      "source": [
        "Por ejemplo, puedes usar la librería `math` para acceder a algunas operaciones básicas de matemáticas"
      ],
      "metadata": {
        "id": "YkOPEAcxRG8p"
      }
    },
    {
      "cell_type": "code",
      "source": [
        "import math\n"
      ],
      "metadata": {
        "id": "WU_AuWGrWfJk"
      },
      "execution_count": 5,
      "outputs": []
    },
    {
      "cell_type": "markdown",
      "source": [
        "O puedes usar la librería `random` para crear números aleatorios"
      ],
      "metadata": {
        "id": "-VXm9UQdRPom"
      }
    },
    {
      "cell_type": "code",
      "source": [
        "import random\n"
      ],
      "metadata": {
        "id": "rPAK29-nF7Gt"
      },
      "execution_count": 6,
      "outputs": []
    },
    {
      "cell_type": "markdown",
      "source": [
        "## 8. Clases 🧑\n",
        "\n",
        "Una clase es una manera de **organizar y agrupar datos y funciones relacionadas**. Por ejemplo: tú eres de la clase \"Persona\", tienes una serie de características (datos) como tu nombre, tu edad... y tienes una serie de funciones relacionadas, como por ejemplo \"dar la mano\" o \"saludar\"."
      ],
      "metadata": {
        "id": "qAdgeCSqVGk7"
      }
    },
    {
      "cell_type": "code",
      "source": [],
      "metadata": {
        "id": "hdeRWMHGWfql"
      },
      "execution_count": 6,
      "outputs": []
    },
    {
      "cell_type": "markdown",
      "source": [
        "## 9. Bonus: ¡Hagamos un juego! 🥳\n",
        "\n",
        "Vamos a programar un juego llamado \"¡Adivina el número!\""
      ],
      "metadata": {
        "id": "tMZr1Pd-4VDu"
      }
    },
    {
      "cell_type": "code",
      "source": [
        "def play():\n",
        "  print(\"Empieza el juego!\")\n",
        "  my_number = input(\"Dime un número:\")  # yo elijo un número cualquiera\n",
        "  my_number = int(my_number)\n",
        "\n",
        "play()  # A jugar!"
      ],
      "metadata": {
        "id": "2QBFFLPO4FO1",
        "colab": {
          "base_uri": "https://localhost:8080/"
        },
        "outputId": "580ac2e5-4cab-4e3b-f846-8bdd10f898b9"
      },
      "execution_count": 7,
      "outputs": [
        {
          "name": "stdout",
          "output_type": "stream",
          "text": [
            "Empieza el juego!\n",
            "Dime un número:0\n"
          ]
        }
      ]
    },
    {
      "cell_type": "markdown",
      "source": [
        "Si has llegado hasta aquí ¡enhorabuena! Es tu primer pasito, recuerda que la clave es la **constancia** 💪. Apóyate en todo lo que puedas: Youtube, Google, ChatGPT, algún libro incluso... Pero sin olvidar que **la mejor forma de aprender es practicando.**\n",
        "\n",
        "Te lanzo un reto: ¿Serías capaz de programar un Piedra 🪨, Papel 🧻, o Tijera ✂?"
      ],
      "metadata": {
        "id": "FQFnJkjfibmn"
      }
    }
  ]
}