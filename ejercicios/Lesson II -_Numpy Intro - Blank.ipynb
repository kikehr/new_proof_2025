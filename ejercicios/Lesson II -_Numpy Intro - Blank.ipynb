{
 "cells": [
  {
   "cell_type": "markdown",
   "metadata": {},
   "source": [
    "# Intro to Numpy\n",
    "\n",
    "![](https://www.freecodecamp.org/espanol/news/content/images/2021/04/numpy-1-1-.png)\n",
    "\n",
    "### ¿Qué es numpy?\n",
    "\n",
    "Numpy es una biblioteca en Python que **permite realizar operaciones matemáticas avanzadas de forma eficiente** con estructuras de datos de alto rendimiento, principalmente **arrays**.\n",
    "\n",
    "### ¿Por qué usar numpy?\n",
    "\n",
    "Usar numpy sobre las listas de Python tiene una serie de ventajas como la **rapidez y la eficiencia** en operaciones matemáticas y de matriz. Además, numpy es una biblioteca muy popular y ampliamente utilizada en el campo de la **ciencia de datos** y el aprendizaje automático. **Es la base** de muchas otras bibliotecas de Python como **pandas, scikit-learn**...\n",
    "\n",
    "### ¿Cómo instalar numpy?\n",
    "\n",
    "Para instalar numpy, simplemente ejecuta el siguiente comando en tu terminal:\n",
    "\n",
    "```bash\n",
    "pip install numpy\n",
    "```"
   ]
  },
  {
   "cell_type": "markdown",
   "metadata": {},
   "source": [
    "## Conceptos Básicos de Numpy\n",
    "\n",
    "A continuación, vamos a ver algunos conceptos básicos de numpy, primero debemos importar la librería:"
   ]
  },
  {
   "cell_type": "code",
   "execution_count": 3,
   "metadata": {},
   "outputs": [],
   "source": [
    "# import numpy\n",
    "\n",
    "import numpy as np"
   ]
  },
  {
   "cell_type": "markdown",
   "metadata": {},
   "source": [
    "### Crear un array\n",
    "\n",
    "Numpy gira en torno a un objeto llamado **`array`** que es una **matriz multidimensional de elementos del mismo tipo**. \n",
    "\n",
    "💡 Para crear un array, puedes usar la función **`np.array()`** y pasar una lista de elementos como argumento."
   ]
  },
  {
   "cell_type": "code",
   "execution_count": 9,
   "metadata": {},
   "outputs": [
    {
     "data": {
      "text/plain": [
       "array([1, 2, 4, 5])"
      ]
     },
     "execution_count": 9,
     "metadata": {},
     "output_type": "execute_result"
    }
   ],
   "source": [
    "my_list = [1,2,4,5]\n",
    "np.array(my_list)"
   ]
  },
  {
   "cell_type": "markdown",
   "metadata": {},
   "source": [
    "💡 También podemos crear arrays de ceros (`np.zeros()`), de unos (`np.ones()`), y con valores constantes específicos utilizando `np.full()`. "
   ]
  },
  {
   "cell_type": "code",
   "execution_count": 15,
   "metadata": {},
   "outputs": [
    {
     "data": {
      "text/plain": [
       "array([7, 7, 7, 7])"
      ]
     },
     "execution_count": 15,
     "metadata": {},
     "output_type": "execute_result"
    }
   ],
   "source": [
    "np.zeros(3)\n",
    "np.ones(7)\n",
    "np.full(4,7)"
   ]
  },
  {
   "cell_type": "markdown",
   "metadata": {},
   "source": [
    "💡 Podemos crear secuencias de números consecutivos usando `np.arange()` o `np.linspace()`. También podemos crear arrays de números aleatorios usando `np.random.rand()`."
   ]
  },
  {
   "cell_type": "code",
   "execution_count": 23,
   "metadata": {},
   "outputs": [
    {
     "data": {
      "text/plain": [
       "array([1. , 1.5, 2. , 2.5, 3. , 3.5, 4. , 4.5, 5. , 5.5])"
      ]
     },
     "execution_count": 23,
     "metadata": {},
     "output_type": "execute_result"
    }
   ],
   "source": [
    "np.arange(1,6,0.5)\n"
   ]
  },
  {
   "cell_type": "code",
   "execution_count": 21,
   "metadata": {},
   "outputs": [
    {
     "data": {
      "text/plain": [
       "array([[0.25768657, 0.11110362, 0.37748425, 0.64288864, 0.06936094,\n",
       "        0.63042261],\n",
       "       [0.09997846, 0.7736784 , 0.90052233, 0.74634597, 0.97637271,\n",
       "        0.62989228],\n",
       "       [0.05146154, 0.97896223, 0.00300188, 0.09488991, 0.74676839,\n",
       "        0.25906632],\n",
       "       [0.72828327, 0.94776203, 0.14885792, 0.05039687, 0.09567393,\n",
       "        0.11724752]])"
      ]
     },
     "execution_count": 21,
     "metadata": {},
     "output_type": "execute_result"
    }
   ],
   "source": [
    "np.random.rand(4,6)"
   ]
  },
  {
   "cell_type": "code",
   "execution_count": 24,
   "metadata": {},
   "outputs": [
    {
     "data": {
      "text/plain": [
       "array([30, 20, 24, 34, 14, 19, 22, 24, 12, 17, 17, 26, 10, 13])"
      ]
     },
     "execution_count": 24,
     "metadata": {},
     "output_type": "execute_result"
    }
   ],
   "source": [
    "np.random.randint(0,40,14)"
   ]
  },
  {
   "cell_type": "code",
   "execution_count": 26,
   "metadata": {},
   "outputs": [
    {
     "data": {
      "text/plain": [
       "array([[0.59571232, 0.4078009 , 0.425098  ],\n",
       "       [0.18895636, 0.38753726, 0.51028386],\n",
       "       [0.85057424, 0.92761022, 0.99143557],\n",
       "       [0.62212008, 0.27735298, 0.54456988]])"
      ]
     },
     "execution_count": 26,
     "metadata": {},
     "output_type": "execute_result"
    }
   ],
   "source": [
    "np.random.rand(4,3)"
   ]
  },
  {
   "cell_type": "code",
   "execution_count": 2,
   "metadata": {},
   "outputs": [
    {
     "ename": "NameError",
     "evalue": "name 'np' is not defined",
     "output_type": "error",
     "traceback": [
      "\u001b[31m---------------------------------------------------------------------------\u001b[39m",
      "\u001b[31mNameError\u001b[39m                                 Traceback (most recent call last)",
      "\u001b[36mCell\u001b[39m\u001b[36m \u001b[39m\u001b[32mIn[2]\u001b[39m\u001b[32m, line 1\u001b[39m\n\u001b[32m----> \u001b[39m\u001b[32m1\u001b[39m \u001b[43mnp\u001b[49m.linspace(\u001b[32m0\u001b[39m,\u001b[32m7\u001b[39m,\u001b[32m5\u001b[39m)\n",
      "\u001b[31mNameError\u001b[39m: name 'np' is not defined"
     ]
    }
   ],
   "source": [
    "np.linspace(0,7,5)"
   ]
  },
  {
   "cell_type": "code",
   "execution_count": 3,
   "metadata": {},
   "outputs": [
    {
     "data": {
      "text/plain": [
       "array([129, 139, 149])"
      ]
     },
     "execution_count": 3,
     "metadata": {},
     "output_type": "execute_result"
    }
   ],
   "source": [
    "np.array([127,137,147]) +2"
   ]
  },
  {
   "cell_type": "code",
   "execution_count": 6,
   "metadata": {},
   "outputs": [],
   "source": [
    "my_array = np.array([127,137,147])"
   ]
  },
  {
   "cell_type": "markdown",
   "metadata": {},
   "source": [
    "### El tipo de datos de un array\n",
    "\n",
    "Recuerda que los arrays de numpy tienen un **tipo de datos** asociado. Puedes especificar el tipo de datos al crear un array o numpy intentará inferirlo automáticamente. Es muy importante tener en cuenta el tipo de datos de un array, ya que puede afectar a la precisión de los cálculos y al uso de la memoria. Los tipos principales son:\n",
    "\n",
    "- **`int`**: Número entero\n",
    "  - **`int8`**: Entero de 8 bits: -128 a 127\n",
    "  - **`int16`**: Entero de 16 bits: -2^15 a 2^15-1\n",
    "  - **`int32`**: Entero de 32 bits: -2^31 a 2^31-1\n",
    "  - **`int64`**: Entero de 64 bits: -2^63 a 2^63-1\n",
    "- **`float`**: Número con decimales (coma flotante)\n",
    "  - **`float16`**: Número de coma flotante de 16 bits\n",
    "  - **`float32`**: Número de coma flotante de 32 bits\n",
    "  - **`float64`**: Número de coma flotante de 64 bits \n",
    "- **`bool`**: Booleano\n",
    "- **`string`**: Cadena de texto\n",
    "- **`object`**: Objeto de Python\n",
    "\n",
    "Dentro de los `int` y `float`, también puedes especificar si quieres que sean **signed** o **unsigned**. Por ejemplo, `uint8` es un entero sin signo de 8 bits. Es decir, alberga valores de 0 a 255 (2^8-1). Un caso clásico de un array de tipo `uint8` es una imagen en escala de grises, donde cada píxel tiene un valor entre 0 y 255. El 0 representa el color negro y el 255 el blanco.\n",
    "\n",
    "💡 En numpy podemos ver el tipo de un array usando el método `.dtype`"
   ]
  },
  {
   "cell_type": "code",
   "execution_count": 7,
   "metadata": {},
   "outputs": [
    {
     "data": {
      "text/plain": [
       "dtype('int64')"
      ]
     },
     "execution_count": 7,
     "metadata": {},
     "output_type": "execute_result"
    }
   ],
   "source": [
    "my_array.dtype"
   ]
  },
  {
   "cell_type": "markdown",
   "metadata": {},
   "source": [
    "💡 También podemos cambiar el tipo de un array usando el método `.astype()`"
   ]
  },
  {
   "cell_type": "code",
   "execution_count": 9,
   "metadata": {},
   "outputs": [
    {
     "data": {
      "text/plain": [
       "array([ True,  True,  True])"
      ]
     },
     "execution_count": 9,
     "metadata": {},
     "output_type": "execute_result"
    }
   ],
   "source": [
    "my_array.astype(bool)"
   ]
  },
  {
   "cell_type": "markdown",
   "metadata": {},
   "source": [
    "### La Forma de un Array (a.k.a. Shape)\n",
    "\n",
    "La \"forma\" de un array en numpy es un concepto fundamental que **describe las dimensiones del array**. Se refiere al **número de elementos en cada dimensión** y se representa por una tupla de enteros. Cada número en esta tupla indica el tamaño del array en esa dimensión. Por ejemplo, un array de una dimensión (un vector) con 4 elementos tendría una forma de (4,), mientras que un array de dos dimensiones (una matriz) con 3 filas y 5 columnas tendría una forma de (3, 5).\n",
    "\n",
    "![](https://pbs.twimg.com/media/FD1qSBqVgAg7078.jpg:large)\n",
    "\n",
    "* Un **vector**, que es un array de una sola dimensión, podría tener una forma (n,) donde n es el número de elementos en el vector.\n",
    "* Una **matriz**, que es un array de dos dimensiones, podría tener una forma (m, n) donde m es el número de filas y n el número de columnas.\n",
    "* Un **tensor**, que es un array de tres dimensiones, a menudo utilizado en ciencias de datos para representar conjuntos de imágenes o datos espaciotemporales, podría tener una forma (p, m, n) donde p representa un conjunto de matrices de dimensiones m x n.\n",
    "\n",
    "💡 La propiedad `.shape` de un objeto numpy array se puede utilizar para obtener la forma actual del array:"
   ]
  },
  {
   "cell_type": "code",
   "execution_count": 10,
   "metadata": {},
   "outputs": [
    {
     "data": {
      "text/plain": [
       "(3,)"
      ]
     },
     "execution_count": 10,
     "metadata": {},
     "output_type": "execute_result"
    }
   ],
   "source": [
    "my_array.shape"
   ]
  },
  {
   "cell_type": "markdown",
   "metadata": {},
   "source": [
    "💡 Es posible modificar la forma de un array usando el método `.reshape()`."
   ]
  },
  {
   "cell_type": "code",
   "execution_count": 13,
   "metadata": {},
   "outputs": [
    {
     "data": {
      "text/plain": [
       "array([[0, 1, 2],\n",
       "       [3, 4, 5]])"
      ]
     },
     "execution_count": 13,
     "metadata": {},
     "output_type": "execute_result"
    }
   ],
   "source": [
    "my_matrix = np.arange(6)\n",
    "my_matrix.reshape(2,3)"
   ]
  },
  {
   "cell_type": "markdown",
   "metadata": {},
   "source": [
    "💡 También podemos \"aplanar\" un array (convertirlo a un vector) usando `.flatten()`"
   ]
  },
  {
   "cell_type": "code",
   "execution_count": 14,
   "metadata": {},
   "outputs": [
    {
     "data": {
      "text/plain": [
       "array([0, 1, 2, 3, 4, 5])"
      ]
     },
     "execution_count": 14,
     "metadata": {},
     "output_type": "execute_result"
    }
   ],
   "source": [
    "my_matrix.flatten()"
   ]
  },
  {
   "cell_type": "markdown",
   "metadata": {},
   "source": [
    "## Operaciones Básicas\n",
    "\n",
    "Podemos **sumar, restar, multiplicar y dividir** arrays de numpy de la misma forma que lo haríamos con números. ⚠️ Es importante tener en cuenta que estas operaciones se realizan **elemento a elemento**, por lo que **ambos arrays deben tener la misma forma.**"
   ]
  },
  {
   "cell_type": "code",
   "execution_count": 17,
   "metadata": {},
   "outputs": [
    {
     "data": {
      "text/plain": [
       "array([4699, 5069, 5439])"
      ]
     },
     "execution_count": 17,
     "metadata": {},
     "output_type": "execute_result"
    }
   ],
   "source": [
    "my_array * 37"
   ]
  },
  {
   "cell_type": "markdown",
   "metadata": {},
   "source": [
    "💡 También podemos aplicar funciones matemáticas a un array de numpy, como **`np.sin()`, `np.cos()`, `np.exp()`, `np.log()`**..."
   ]
  },
  {
   "cell_type": "code",
   "execution_count": 19,
   "metadata": {},
   "outputs": [
    {
     "data": {
      "text/plain": [
       "array([ 0.2323591 ,  0.33416538, -0.79313642])"
      ]
     },
     "execution_count": 19,
     "metadata": {},
     "output_type": "execute_result"
    }
   ],
   "source": [
    "np.sin(my_array)\n",
    "np.cos(my_array)"
   ]
  },
  {
   "cell_type": "markdown",
   "metadata": {},
   "source": [
    "## Agregación y Estadísticas\n",
    "\n",
    "Numpy proporciona una serie de funciones para realizar **operaciones de agregación y estadísticas** en arrays. Algunas de las más comunes son:\n",
    "\n",
    "- **`np.sum()`**: Suma de todos los elementos del array\n",
    "- **`np.mean()`**: Media de los elementos del array\n",
    "- **`np.median()`**: Mediana de los elementos del array\n",
    "- **`np.min()`**: Valor mínimo del array\n",
    "- **`np.max()`**: Valor máximo del array\n",
    "- **`np.argmin()`**: Índice del valor mínimo del array\n",
    "- **`np.argmax()`**: Índice del valor máximo del array"
   ]
  },
  {
   "cell_type": "code",
   "execution_count": 24,
   "metadata": {},
   "outputs": [
    {
     "data": {
      "text/plain": [
       "array([147, 137, 127])"
      ]
     },
     "execution_count": 24,
     "metadata": {},
     "output_type": "execute_result"
    }
   ],
   "source": [
    "np.sum(my_array)\n",
    "np.mean(my_array)\n",
    "np.std(my_array)\n",
    "my_array[::-1]"
   ]
  },
  {
   "cell_type": "markdown",
   "metadata": {},
   "source": [
    "💡 También podemos calcular la posición del elemento máximo usando **`np.argmax()`** o **`np.argmin()`**"
   ]
  },
  {
   "cell_type": "code",
   "execution_count": 26,
   "metadata": {},
   "outputs": [
    {
     "data": {
      "text/plain": [
       "np.int64(0)"
      ]
     },
     "execution_count": 26,
     "metadata": {},
     "output_type": "execute_result"
    }
   ],
   "source": [
    "np.argmax(my_array)\n",
    "np.argmin(my_array)"
   ]
  },
  {
   "cell_type": "markdown",
   "metadata": {},
   "source": [
    "## Array Slicing\n",
    "\n",
    "Al igual que en las listas de Python, podemos **acceder a elementos individuales o a subconjuntos de elementos** en un array de numpy utilizando la técnica de **slicing**. Para ello, podemos utilizar la notación de corchetes y dos puntos `:`."
   ]
  },
  {
   "cell_type": "code",
   "execution_count": 30,
   "metadata": {},
   "outputs": [
    {
     "data": {
      "text/plain": [
       "array([127])"
      ]
     },
     "execution_count": 30,
     "metadata": {},
     "output_type": "execute_result"
    }
   ],
   "source": [
    "my_array[0:1]"
   ]
  },
  {
   "cell_type": "markdown",
   "metadata": {},
   "source": [
    "## Array Masking\n",
    "\n",
    "El **enmascaramiento de arrays** es una técnica que nos permite **filtrar** los elementos de un array basándonos en una **condición lógica**. Por ejemplo, podemos seleccionar todos los elementos de un array que sean mayores que un cierto valor, o que cumplan una determinada condición. Esto será especialmente útil cuando trabajemos con tablas de datos y queramos filtrar filas o columnas basándonos en ciertas condiciones."
   ]
  },
  {
   "cell_type": "code",
   "execution_count": 4,
   "metadata": {},
   "outputs": [
    {
     "data": {
      "text/plain": [
       "array([1, 3])"
      ]
     },
     "execution_count": 4,
     "metadata": {},
     "output_type": "execute_result"
    }
   ],
   "source": [
    "my_vector = np.array([0,1,2,3,4])\n",
    "my_mask = np.array([False, True, False, True, False])\n",
    "my_vector[my_mask]"
   ]
  },
  {
   "cell_type": "code",
   "execution_count": 7,
   "metadata": {},
   "outputs": [
    {
     "data": {
      "text/plain": [
       "np.float64(39.5)"
      ]
     },
     "execution_count": 7,
     "metadata": {},
     "output_type": "execute_result"
    }
   ],
   "source": [
    "my_ages = np.array([12, 23, 34, 45, 6])\n",
    "ages_over_18_mask = my_ages > 25\n",
    "my_ages [ages_over_18_mask]\n",
    "np.mean(my_ages[ages_over_18_mask])"
   ]
  },
  {
   "cell_type": "markdown",
   "metadata": {},
   "source": [
    "## 💪 Ejercicios\n",
    "\n",
    "A continuación, te propongo algunos ejercicios para que practiques tus habilidades con numpy"
   ]
  },
  {
   "cell_type": "markdown",
   "metadata": {},
   "source": [
    "### Ejercicio I: The Alien Invasion\n",
    "\n",
    "El ejercicio original puede encontrarse [aquí](https://matesanz.github.io/python-machine-learning-course/%F0%9F%A7%AA-Exercises/the-alien-invasion/)."
   ]
  },
  {
   "cell_type": "code",
   "execution_count": 8,
   "metadata": {},
   "outputs": [],
   "source": [
    "import numpy as np\n",
    "\n",
    "\n",
    "fleet_data = np.array([\n",
    "    [120, 40, 25, 2.5, 10],\n",
    "    [85, 60, 30, 5.0, 5],\n",
    "    [100, 50, 35, 4.5, 7],\n",
    "    [120, 40, 25, 2.5, 9],\n",
    "    [150, 50, 30, 3.0, 10],\n",
    "], dtype=np.float32)"
   ]
  },
  {
   "cell_type": "markdown",
   "metadata": {},
   "source": [
    "CARACTERISIICAS DE LA PRIMERA NAVE. 1FILA "
   ]
  },
  {
   "cell_type": "code",
   "execution_count": 9,
   "metadata": {},
   "outputs": [
    {
     "data": {
      "text/plain": [
       "array([120. ,  40. ,  25. ,   2.5,  10. ], dtype=float32)"
      ]
     },
     "execution_count": 9,
     "metadata": {},
     "output_type": "execute_result"
    }
   ],
   "source": [
    "fleet_data[0]"
   ]
  },
  {
   "cell_type": "markdown",
   "metadata": {},
   "source": [
    "DAME LAS VELOCIDADES  DE TODAS LAS NAVES "
   ]
  },
  {
   "cell_type": "code",
   "execution_count": 18,
   "metadata": {},
   "outputs": [
    {
     "data": {
      "text/plain": [
       "array([2.5, 5. , 4.5, 2.5, 3. ], dtype=float32)"
      ]
     },
     "execution_count": 18,
     "metadata": {},
     "output_type": "execute_result"
    }
   ],
   "source": [
    "fleet_data[:,3] "
   ]
  },
  {
   "cell_type": "markdown",
   "metadata": {},
   "source": [
    "velocidad media de las naves "
   ]
  },
  {
   "cell_type": "code",
   "execution_count": 19,
   "metadata": {},
   "outputs": [
    {
     "data": {
      "text/plain": [
       "np.float32(3.5)"
      ]
     },
     "execution_count": 19,
     "metadata": {},
     "output_type": "execute_result"
    }
   ],
   "source": [
    "speed = fleet_data[:,3]\n",
    "speed.mean()"
   ]
  },
  {
   "cell_type": "markdown",
   "metadata": {},
   "source": [
    "velocidad maxima"
   ]
  },
  {
   "cell_type": "code",
   "execution_count": 20,
   "metadata": {},
   "outputs": [
    {
     "data": {
      "text/plain": [
       "np.float32(5.0)"
      ]
     },
     "execution_count": 20,
     "metadata": {},
     "output_type": "execute_result"
    }
   ],
   "source": [
    "speed.max()"
   ]
  },
  {
   "cell_type": "markdown",
   "metadata": {},
   "source": [
    "velocidad minima"
   ]
  },
  {
   "cell_type": "code",
   "execution_count": 21,
   "metadata": {},
   "outputs": [
    {
     "data": {
      "text/plain": [
       "np.float32(2.5)"
      ]
     },
     "execution_count": 21,
     "metadata": {},
     "output_type": "execute_result"
    }
   ],
   "source": [
    "speed.min()"
   ]
  },
  {
   "cell_type": "markdown",
   "metadata": {},
   "source": [
    "posicion nave de mayor velocidad"
   ]
  },
  {
   "cell_type": "code",
   "execution_count": 24,
   "metadata": {},
   "outputs": [
    {
     "data": {
      "text/plain": [
       "np.int64(1)"
      ]
     },
     "execution_count": 24,
     "metadata": {},
     "output_type": "execute_result"
    }
   ],
   "source": [
    "speed.argmax()"
   ]
  },
  {
   "cell_type": "markdown",
   "metadata": {},
   "source": [
    "posicion nave mas lenta"
   ]
  },
  {
   "cell_type": "code",
   "execution_count": 25,
   "metadata": {},
   "outputs": [
    {
     "data": {
      "text/plain": [
       "np.int64(0)"
      ]
     },
     "execution_count": 25,
     "metadata": {},
     "output_type": "execute_result"
    }
   ],
   "source": [
    "speed.argmin()"
   ]
  },
  {
   "cell_type": "code",
   "execution_count": 26,
   "metadata": {},
   "outputs": [
    {
     "data": {
      "text/plain": [
       "array([[120. ,  40. ,  25. ,   2.5,  10. ],\n",
       "       [ 85. ,  60. ,  30. ,   5. ,   5. ],\n",
       "       [100. ,  50. ,  35. ,   4.5,   7. ],\n",
       "       [120. ,  40. ,  25. ,   2.5,   9. ],\n",
       "       [150. ,  50. ,  30. ,   3. ,  10. ]], dtype=float32)"
      ]
     },
     "execution_count": 26,
     "metadata": {},
     "output_type": "execute_result"
    }
   ],
   "source": [
    "fleet_data"
   ]
  },
  {
   "cell_type": "code",
   "execution_count": 28,
   "metadata": {},
   "outputs": [
    {
     "data": {
      "text/plain": [
       "array([10.,  5.,  7.,  9., 10.], dtype=float32)"
      ]
     },
     "execution_count": 28,
     "metadata": {},
     "output_type": "execute_result"
    }
   ],
   "source": [
    "power = fleet_data[:,4]\n",
    "power"
   ]
  },
  {
   "cell_type": "markdown",
   "metadata": {},
   "source": [
    "maxima potencia de naves"
   ]
  },
  {
   "cell_type": "code",
   "execution_count": 29,
   "metadata": {},
   "outputs": [
    {
     "data": {
      "text/plain": [
       "np.float32(10.0)"
      ]
     },
     "execution_count": 29,
     "metadata": {},
     "output_type": "execute_result"
    }
   ],
   "source": [
    "power.max()"
   ]
  },
  {
   "cell_type": "markdown",
   "metadata": {},
   "source": [
    "minima potencia "
   ]
  },
  {
   "cell_type": "code",
   "execution_count": 30,
   "metadata": {},
   "outputs": [
    {
     "data": {
      "text/plain": [
       "np.float32(5.0)"
      ]
     },
     "execution_count": 30,
     "metadata": {},
     "output_type": "execute_result"
    }
   ],
   "source": [
    "power.min()"
   ]
  },
  {
   "cell_type": "markdown",
   "metadata": {},
   "source": [
    "VOLUMEN DEL ARRAY"
   ]
  },
  {
   "cell_type": "code",
   "execution_count": 33,
   "metadata": {},
   "outputs": [
    {
     "data": {
      "text/plain": [
       "(array([120.,  85., 100., 120., 150.], dtype=float32),\n",
       " array([40., 60., 50., 40., 50.], dtype=float32),\n",
       " array([25., 30., 35., 25., 30.], dtype=float32))"
      ]
     },
     "execution_count": 33,
     "metadata": {},
     "output_type": "execute_result"
    }
   ],
   "source": [
    "fleet_height = fleet_data[:,0]\n",
    "fleet_width = fleet_data[:,1]\n",
    "fleet_length = fleet_data[:,2]\n",
    "fleet_height, fleet_width, fleet_length"
   ]
  },
  {
   "cell_type": "code",
   "execution_count": 34,
   "metadata": {},
   "outputs": [
    {
     "data": {
      "text/plain": [
       "array([120000., 153000., 175000., 120000., 225000.], dtype=float32)"
      ]
     },
     "execution_count": 34,
     "metadata": {},
     "output_type": "execute_result"
    }
   ],
   "source": [
    "volumen_naves = fleet_height * fleet_width * fleet_length\n",
    "volumen_naves"
   ]
  },
  {
   "cell_type": "markdown",
   "metadata": {},
   "source": [
    "### Ejercicio II: manipulando imágenes\n",
    "\n",
    "Dada una imagen a color representada por un array de numpy de forma `(m, n, c)` donde `m` es el número de filas y `n` el número de columnas y `p` las bandas de color (RGB), escribe una función que reciba la imagen y devuelva una nueva imagen que contenga solo la mitad derecha de la imagen original. para convertir la imagen en un array de numpy, puedes usar la función `PIL.Image.open()` del módulo `PIL` y luego convertir la imagen en un array de numpy usando `np.asarray()`."
   ]
  },
  {
   "cell_type": "code",
   "execution_count": 19,
   "metadata": {},
   "outputs": [
    {
     "ename": "ModuleNotFoundError",
     "evalue": "No module named 'PIL'",
     "output_type": "error",
     "traceback": [
      "\u001b[31m---------------------------------------------------------------------------\u001b[39m",
      "\u001b[31mModuleNotFoundError\u001b[39m                       Traceback (most recent call last)",
      "\u001b[36mCell\u001b[39m\u001b[36m \u001b[39m\u001b[32mIn[19]\u001b[39m\u001b[32m, line 1\u001b[39m\n\u001b[32m----> \u001b[39m\u001b[32m1\u001b[39m \u001b[38;5;28;01mfrom\u001b[39;00m\u001b[38;5;250m \u001b[39m\u001b[34;01mPIL\u001b[39;00m\u001b[38;5;250m \u001b[39m\u001b[38;5;28;01mimport\u001b[39;00m Image\n\u001b[32m      2\u001b[39m \u001b[38;5;28;01mimport\u001b[39;00m\u001b[38;5;250m \u001b[39m\u001b[34;01mrequests\u001b[39;00m\n\u001b[32m      4\u001b[39m IMAGE_URL = \u001b[33m\"\u001b[39m\u001b[33mhttps://estaticos-cdn.prensaiberica.es/clip/6040f332-9afa-471d-b076-c060ae37450a_alta-libre-aspect-ratio_default_0.jpg\u001b[39m\u001b[33m\"\u001b[39m\n",
      "\u001b[31mModuleNotFoundError\u001b[39m: No module named 'PIL'"
     ]
    }
   ],
   "source": [
    "from PIL import Image\n",
    "import requests\n",
    "\n",
    "IMAGE_URL = \"https://estaticos-cdn.prensaiberica.es/clip/6040f332-9afa-471d-b076-c060ae37450a_alta-libre-aspect-ratio_default_0.jpg\"\n",
    "\n",
    "response = requests.get(IMAGE_URL, stream=True)\n",
    "image_pil = Image.open(response.raw)\n",
    "image_array = np.array(image_pil)\n",
    "Image.fromarray(image_array)  # show the image"
   ]
  },
  {
   "cell_type": "code",
   "execution_count": null,
   "metadata": {},
   "outputs": [],
   "source": []
  },
  {
   "cell_type": "markdown",
   "metadata": {},
   "source": [
    "### Ejercicio III: Crea un Tres en Raya\n",
    "\n",
    "To try out your new skills, try to create a TicTacToe game using Numpy arrays. Fill the functions below to create a game that can be played by two players."
   ]
  },
  {
   "cell_type": "code",
   "execution_count": null,
   "metadata": {},
   "outputs": [],
   "source": []
  }
 ],
 "metadata": {
  "kernelspec": {
   "display_name": "venv",
   "language": "python",
   "name": "python3"
  },
  "language_info": {
   "codemirror_mode": {
    "name": "ipython",
    "version": 3
   },
   "file_extension": ".py",
   "mimetype": "text/x-python",
   "name": "python",
   "nbconvert_exporter": "python",
   "pygments_lexer": "ipython3",
   "version": "3.11.11"
  }
 },
 "nbformat": 4,
 "nbformat_minor": 2
}
